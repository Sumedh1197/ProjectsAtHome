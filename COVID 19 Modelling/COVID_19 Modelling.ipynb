{
 "cells": [
  {
   "cell_type": "code",
   "execution_count": 1,
   "metadata": {},
   "outputs": [
    {
     "name": "stdout",
     "output_type": "stream",
     "text": [
      "<class 'pandas.core.frame.DataFrame'>\n",
      "Int64Index: 748008 entries, 1 to 969576\n",
      "Data columns (total 6 columns):\n",
      "Country_Region    748008 non-null object\n",
      "Population        748008 non-null int64\n",
      "Weight            748008 non-null float64\n",
      "Date              748008 non-null object\n",
      "Target            748008 non-null object\n",
      "TargetValue       748008 non-null float64\n",
      "dtypes: float64(2), int64(1), object(3)\n",
      "memory usage: 39.9+ MB\n"
     ]
    }
   ],
   "source": [
    "import pandas as pd\n",
    "train_df= pd.read_csv('train.csv')\n",
    "test_df= pd.read_csv('test.csv')\n",
    "\n",
    "#Dropping columns with too many null values and setting index \n",
    "train_df.drop('County',axis=1,inplace=True)\n",
    "train_df.drop('Province_State',axis=1,inplace=True)\n",
    "train_df.set_index('Id',inplace=True)\n",
    "train_df.info()"
   ]
  },
  {
   "cell_type": "code",
   "execution_count": 2,
   "metadata": {},
   "outputs": [],
   "source": [
    "#PREPROCESSING OF TRAINING DATASET FOR MODELLING \n",
    "from sklearn import preprocessing\n",
    "le = preprocessing.LabelEncoder()\n",
    "#LabelEncoder can be used to normalize labels.\n",
    "#fit_trainsform - Fit label encoder and return encoded labels\n",
    "train_df['Target_numerical'] = le.fit_transform(train_df['Target'])\n",
    "train_df['Country_numerical']= le.fit_transform(train_df['Country_Region'])\n",
    "\n",
    "\n",
    "train_df['Date'] = pd.to_datetime(train_df['Date'])\n",
    "\n",
    "\n",
    "train_df['Dayofweek'] = train_df['Date'].dt.dayofweek\n",
    "train_df['Day'] = train_df['Date'].dt.day\n",
    "train_df['Month'] = train_df['Date'].dt.month\n",
    "\n"
   ]
  },
  {
   "cell_type": "code",
   "execution_count": 3,
   "metadata": {},
   "outputs": [
    {
     "data": {
      "text/html": [
       "<div>\n",
       "<style scoped>\n",
       "    .dataframe tbody tr th:only-of-type {\n",
       "        vertical-align: middle;\n",
       "    }\n",
       "\n",
       "    .dataframe tbody tr th {\n",
       "        vertical-align: top;\n",
       "    }\n",
       "\n",
       "    .dataframe thead th {\n",
       "        text-align: right;\n",
       "    }\n",
       "</style>\n",
       "<table border=\"1\" class=\"dataframe\">\n",
       "  <thead>\n",
       "    <tr style=\"text-align: right;\">\n",
       "      <th></th>\n",
       "      <th>Country_Region</th>\n",
       "      <th>Population</th>\n",
       "      <th>Weight</th>\n",
       "      <th>Date</th>\n",
       "      <th>Target</th>\n",
       "      <th>TargetValue</th>\n",
       "      <th>Target_numerical</th>\n",
       "      <th>Country_numerical</th>\n",
       "      <th>Dayofweek</th>\n",
       "      <th>Day</th>\n",
       "      <th>Month</th>\n",
       "    </tr>\n",
       "    <tr>\n",
       "      <th>Id</th>\n",
       "      <th></th>\n",
       "      <th></th>\n",
       "      <th></th>\n",
       "      <th></th>\n",
       "      <th></th>\n",
       "      <th></th>\n",
       "      <th></th>\n",
       "      <th></th>\n",
       "      <th></th>\n",
       "      <th></th>\n",
       "      <th></th>\n",
       "    </tr>\n",
       "  </thead>\n",
       "  <tbody>\n",
       "    <tr>\n",
       "      <th>1</th>\n",
       "      <td>Afghanistan</td>\n",
       "      <td>27657145</td>\n",
       "      <td>0.058359</td>\n",
       "      <td>2020-01-23</td>\n",
       "      <td>ConfirmedCases</td>\n",
       "      <td>0.0</td>\n",
       "      <td>0</td>\n",
       "      <td>0</td>\n",
       "      <td>3</td>\n",
       "      <td>23</td>\n",
       "      <td>1</td>\n",
       "    </tr>\n",
       "    <tr>\n",
       "      <th>2</th>\n",
       "      <td>Afghanistan</td>\n",
       "      <td>27657145</td>\n",
       "      <td>0.583587</td>\n",
       "      <td>2020-01-23</td>\n",
       "      <td>Fatalities</td>\n",
       "      <td>0.0</td>\n",
       "      <td>1</td>\n",
       "      <td>0</td>\n",
       "      <td>3</td>\n",
       "      <td>23</td>\n",
       "      <td>1</td>\n",
       "    </tr>\n",
       "    <tr>\n",
       "      <th>3</th>\n",
       "      <td>Afghanistan</td>\n",
       "      <td>27657145</td>\n",
       "      <td>0.058359</td>\n",
       "      <td>2020-01-24</td>\n",
       "      <td>ConfirmedCases</td>\n",
       "      <td>0.0</td>\n",
       "      <td>0</td>\n",
       "      <td>0</td>\n",
       "      <td>4</td>\n",
       "      <td>24</td>\n",
       "      <td>1</td>\n",
       "    </tr>\n",
       "    <tr>\n",
       "      <th>4</th>\n",
       "      <td>Afghanistan</td>\n",
       "      <td>27657145</td>\n",
       "      <td>0.583587</td>\n",
       "      <td>2020-01-24</td>\n",
       "      <td>Fatalities</td>\n",
       "      <td>0.0</td>\n",
       "      <td>1</td>\n",
       "      <td>0</td>\n",
       "      <td>4</td>\n",
       "      <td>24</td>\n",
       "      <td>1</td>\n",
       "    </tr>\n",
       "    <tr>\n",
       "      <th>5</th>\n",
       "      <td>Afghanistan</td>\n",
       "      <td>27657145</td>\n",
       "      <td>0.058359</td>\n",
       "      <td>2020-01-25</td>\n",
       "      <td>ConfirmedCases</td>\n",
       "      <td>0.0</td>\n",
       "      <td>0</td>\n",
       "      <td>0</td>\n",
       "      <td>5</td>\n",
       "      <td>25</td>\n",
       "      <td>1</td>\n",
       "    </tr>\n",
       "  </tbody>\n",
       "</table>\n",
       "</div>"
      ],
      "text/plain": [
       "   Country_Region  Population    Weight       Date          Target  \\\n",
       "Id                                                                   \n",
       "1     Afghanistan    27657145  0.058359 2020-01-23  ConfirmedCases   \n",
       "2     Afghanistan    27657145  0.583587 2020-01-23      Fatalities   \n",
       "3     Afghanistan    27657145  0.058359 2020-01-24  ConfirmedCases   \n",
       "4     Afghanistan    27657145  0.583587 2020-01-24      Fatalities   \n",
       "5     Afghanistan    27657145  0.058359 2020-01-25  ConfirmedCases   \n",
       "\n",
       "    TargetValue  Target_numerical  Country_numerical  Dayofweek  Day  Month  \n",
       "Id                                                                           \n",
       "1           0.0                 0                  0          3   23      1  \n",
       "2           0.0                 1                  0          3   23      1  \n",
       "3           0.0                 0                  0          4   24      1  \n",
       "4           0.0                 1                  0          4   24      1  \n",
       "5           0.0                 0                  0          5   25      1  "
      ]
     },
     "execution_count": 3,
     "metadata": {},
     "output_type": "execute_result"
    }
   ],
   "source": [
    "train_df.head()"
   ]
  },
  {
   "cell_type": "code",
   "execution_count": 4,
   "metadata": {},
   "outputs": [],
   "source": [
    "#PERFORMING SAME ON TESTING DATASET \n",
    "\n",
    "test_df= pd.read_csv('test.csv')\n",
    "\n",
    "test_df.drop(['Province_State','County'],axis=1,inplace=True)\n",
    "test_df['Target_numerical'] = le.fit_transform(test_df['Target'])\n",
    "test_df['Country_numerical']= le.fit_transform(test_df['Country_Region'])\n",
    "\n",
    "\n",
    "test_df['Date'] = pd.to_datetime(test_df['Date'])\n",
    "\n",
    "\n",
    "test_df['Dayofweek'] = test_df['Date'].dt.dayofweek\n",
    "test_df['Day'] = test_df['Date'].dt.day\n",
    "test_df['Month'] = test_df['Date'].dt.month"
   ]
  },
  {
   "cell_type": "code",
   "execution_count": 5,
   "metadata": {},
   "outputs": [
    {
     "data": {
      "text/html": [
       "<div>\n",
       "<style scoped>\n",
       "    .dataframe tbody tr th:only-of-type {\n",
       "        vertical-align: middle;\n",
       "    }\n",
       "\n",
       "    .dataframe tbody tr th {\n",
       "        vertical-align: top;\n",
       "    }\n",
       "\n",
       "    .dataframe thead th {\n",
       "        text-align: right;\n",
       "    }\n",
       "</style>\n",
       "<table border=\"1\" class=\"dataframe\">\n",
       "  <thead>\n",
       "    <tr style=\"text-align: right;\">\n",
       "      <th></th>\n",
       "      <th>Country_Region</th>\n",
       "      <th>Population</th>\n",
       "      <th>Weight</th>\n",
       "      <th>Date</th>\n",
       "      <th>Target</th>\n",
       "      <th>Target_numerical</th>\n",
       "      <th>Country_numerical</th>\n",
       "      <th>Dayofweek</th>\n",
       "      <th>Day</th>\n",
       "      <th>Month</th>\n",
       "    </tr>\n",
       "    <tr>\n",
       "      <th>ForecastId</th>\n",
       "      <th></th>\n",
       "      <th></th>\n",
       "      <th></th>\n",
       "      <th></th>\n",
       "      <th></th>\n",
       "      <th></th>\n",
       "      <th></th>\n",
       "      <th></th>\n",
       "      <th></th>\n",
       "      <th></th>\n",
       "    </tr>\n",
       "  </thead>\n",
       "  <tbody>\n",
       "    <tr>\n",
       "      <th>1</th>\n",
       "      <td>Afghanistan</td>\n",
       "      <td>27657145</td>\n",
       "      <td>0.058359</td>\n",
       "      <td>2020-04-27</td>\n",
       "      <td>ConfirmedCases</td>\n",
       "      <td>0</td>\n",
       "      <td>0</td>\n",
       "      <td>0</td>\n",
       "      <td>27</td>\n",
       "      <td>4</td>\n",
       "    </tr>\n",
       "    <tr>\n",
       "      <th>2</th>\n",
       "      <td>Afghanistan</td>\n",
       "      <td>27657145</td>\n",
       "      <td>0.583587</td>\n",
       "      <td>2020-04-27</td>\n",
       "      <td>Fatalities</td>\n",
       "      <td>1</td>\n",
       "      <td>0</td>\n",
       "      <td>0</td>\n",
       "      <td>27</td>\n",
       "      <td>4</td>\n",
       "    </tr>\n",
       "    <tr>\n",
       "      <th>3</th>\n",
       "      <td>Afghanistan</td>\n",
       "      <td>27657145</td>\n",
       "      <td>0.058359</td>\n",
       "      <td>2020-04-28</td>\n",
       "      <td>ConfirmedCases</td>\n",
       "      <td>0</td>\n",
       "      <td>0</td>\n",
       "      <td>1</td>\n",
       "      <td>28</td>\n",
       "      <td>4</td>\n",
       "    </tr>\n",
       "    <tr>\n",
       "      <th>4</th>\n",
       "      <td>Afghanistan</td>\n",
       "      <td>27657145</td>\n",
       "      <td>0.583587</td>\n",
       "      <td>2020-04-28</td>\n",
       "      <td>Fatalities</td>\n",
       "      <td>1</td>\n",
       "      <td>0</td>\n",
       "      <td>1</td>\n",
       "      <td>28</td>\n",
       "      <td>4</td>\n",
       "    </tr>\n",
       "    <tr>\n",
       "      <th>5</th>\n",
       "      <td>Afghanistan</td>\n",
       "      <td>27657145</td>\n",
       "      <td>0.058359</td>\n",
       "      <td>2020-04-29</td>\n",
       "      <td>ConfirmedCases</td>\n",
       "      <td>0</td>\n",
       "      <td>0</td>\n",
       "      <td>2</td>\n",
       "      <td>29</td>\n",
       "      <td>4</td>\n",
       "    </tr>\n",
       "  </tbody>\n",
       "</table>\n",
       "</div>"
      ],
      "text/plain": [
       "           Country_Region  Population    Weight       Date          Target  \\\n",
       "ForecastId                                                                   \n",
       "1             Afghanistan    27657145  0.058359 2020-04-27  ConfirmedCases   \n",
       "2             Afghanistan    27657145  0.583587 2020-04-27      Fatalities   \n",
       "3             Afghanistan    27657145  0.058359 2020-04-28  ConfirmedCases   \n",
       "4             Afghanistan    27657145  0.583587 2020-04-28      Fatalities   \n",
       "5             Afghanistan    27657145  0.058359 2020-04-29  ConfirmedCases   \n",
       "\n",
       "            Target_numerical  Country_numerical  Dayofweek  Day  Month  \n",
       "ForecastId                                                              \n",
       "1                          0                  0          0   27      4  \n",
       "2                          1                  0          0   27      4  \n",
       "3                          0                  0          1   28      4  \n",
       "4                          1                  0          1   28      4  \n",
       "5                          0                  0          2   29      4  "
      ]
     },
     "execution_count": 5,
     "metadata": {},
     "output_type": "execute_result"
    }
   ],
   "source": [
    "test_df.set_index('ForecastId',inplace=True)\n",
    "test_df.head()"
   ]
  },
  {
   "cell_type": "code",
   "execution_count": 8,
   "metadata": {},
   "outputs": [
    {
     "data": {
      "image/png": "[encoded data removed]",
      "text/plain": [
       "<Figure size 432x288 with 2 Axes>"
      ]
     },
     "metadata": {
      "needs_background": "light"
     },
     "output_type": "display_data"
    }
   ],
   "source": [
    "#CHECKING CORRELATION BETWEEN DIFFERENT COLUMNS NOW USING HEATMAP \n",
    "import matplotlib.pyplot as plt \n",
    "import seaborn as sns \n",
    "%matplotlib inline\n",
    "plt.title(\"Heatmap Correlation of the variables in COVID19 Dataset\", fontsize = 15)\n",
    "sns.heatmap(train_df.corr(), annot=True, fmt=\".2f\",cmap='YlGnBu',linewidths=0.40)\n",
    "plt.show()"
   ]
  },
  {
   "cell_type": "code",
   "execution_count": 9,
   "metadata": {},
   "outputs": [],
   "source": [
    "#TRAIN TEST SPLIT \n",
    "from sklearn.model_selection import train_test_split\n",
    "\n",
    "#Selecting feature columns\n",
    "col_feat = ['Population', 'Weight','Target_numerical', 'Country_numerical', 'Dayofweek','Day', 'Month']\n",
    "X = train_df[col_feat] # Features\n",
    "y = train_df['TargetValue'] # Target variable\n",
    " \n",
    "\n",
    "X_train, X_test, y_train, y_test = train_test_split(X, y, test_size=0.3,random_state=42)"
   ]
  },
  {
   "cell_type": "code",
   "execution_count": 10,
   "metadata": {},
   "outputs": [
    {
     "name": "stdout",
     "output_type": "stream",
     "text": [
      "Training Features Shape: (523605, 7)\n",
      "Training Labels Shape: (523605,)\n",
      "Testing Features Shape: (224403, 7)\n",
      "Testing Labels Shape: (224403,)\n"
     ]
    }
   ],
   "source": [
    "#CHECKING THE SHAPE\n",
    "print('Training Features Shape:', X_train.shape)\n",
    "print('Training Labels Shape:',   y_train.shape)\n",
    "print('Testing Features Shape:',  X_test.shape)\n",
    "print('Testing Labels Shape:',    y_test.shape)"
   ]
  },
  {
   "cell_type": "code",
   "execution_count": 11,
   "metadata": {},
   "outputs": [
    {
     "data": {
      "text/plain": [
       "0.9878134986191512"
      ]
     },
     "execution_count": 11,
     "metadata": {},
     "output_type": "execute_result"
    }
   ],
   "source": [
    "# Import the model we are using\n",
    "from sklearn.ensemble import RandomForestRegressor\n",
    "# Instantiate model with 1000 decision trees\n",
    "model = RandomForestRegressor(n_estimators = 50, random_state = 42)\n",
    "# Train the model on training data\n",
    "model.fit(X_train, y_train)\n",
    "model.score(X_train,y_train)"
   ]
  },
  {
   "cell_type": "code",
   "execution_count": 12,
   "metadata": {},
   "outputs": [
    {
     "data": {
      "text/plain": [
       "0.9409930975185731"
      ]
     },
     "execution_count": 12,
     "metadata": {},
     "output_type": "execute_result"
    }
   ],
   "source": [
    "from sklearn.metrics import accuracy_score\n",
    "from sklearn.metrics import classification_report\n",
    "y_predicted= model.predict(X_test)\n",
    "model.score(X_test,y_test)"
   ]
  },
  {
   "cell_type": "code",
   "execution_count": 13,
   "metadata": {},
   "outputs": [
    {
     "data": {
      "image/png": "[encoded data removed]",
      "text/plain": [
       "<Figure size 432x288 with 1 Axes>"
      ]
     },
     "metadata": {
      "needs_background": "light"
     },
     "output_type": "display_data"
    }
   ],
   "source": [
    "fig, ax = plt.subplots()\n",
    "\n",
    "ax.scatter(y_test, y_predicted, edgecolors=(0, 0, 0))\n",
    "\n",
    "ax.plot([y_test.min(), y_test.max()], [y_test.min(), y_test.max()], 'k--', lw=4)\n",
    "\n",
    "ax.set_xlabel('Actual')\n",
    "\n",
    "ax.set_ylabel('Predicted')\n",
    "\n",
    "ax.set_title(\"Visualising goodness of fit\")\n",
    "\n",
    "plt.show()"
   ]
  },
  {
   "cell_type": "code",
   "execution_count": 14,
   "metadata": {},
   "outputs": [],
   "source": [
    "#WORKING WITH TEST DATASET\n",
    "test_col = ['Population', 'Weight','Target_numerical', 'Country_numerical', 'Dayofweek','Day', 'Month']\n",
    "test_data = test_df[test_col]"
   ]
  },
  {
   "cell_type": "code",
   "execution_count": 15,
   "metadata": {},
   "outputs": [
    {
     "data": {
      "text/html": [
       "<div>\n",
       "<style scoped>\n",
       "    .dataframe tbody tr th:only-of-type {\n",
       "        vertical-align: middle;\n",
       "    }\n",
       "\n",
       "    .dataframe tbody tr th {\n",
       "        vertical-align: top;\n",
       "    }\n",
       "\n",
       "    .dataframe thead th {\n",
       "        text-align: right;\n",
       "    }\n",
       "</style>\n",
       "<table border=\"1\" class=\"dataframe\">\n",
       "  <thead>\n",
       "    <tr style=\"text-align: right;\">\n",
       "      <th></th>\n",
       "      <th>Country_Region</th>\n",
       "      <th>Population</th>\n",
       "      <th>Weight</th>\n",
       "      <th>Date</th>\n",
       "      <th>Target</th>\n",
       "      <th>Target_numerical</th>\n",
       "      <th>Country_numerical</th>\n",
       "      <th>Dayofweek</th>\n",
       "      <th>Day</th>\n",
       "      <th>Month</th>\n",
       "    </tr>\n",
       "    <tr>\n",
       "      <th>ForecastId</th>\n",
       "      <th></th>\n",
       "      <th></th>\n",
       "      <th></th>\n",
       "      <th></th>\n",
       "      <th></th>\n",
       "      <th></th>\n",
       "      <th></th>\n",
       "      <th></th>\n",
       "      <th></th>\n",
       "      <th></th>\n",
       "    </tr>\n",
       "  </thead>\n",
       "  <tbody>\n",
       "    <tr>\n",
       "      <th>1</th>\n",
       "      <td>Afghanistan</td>\n",
       "      <td>27657145</td>\n",
       "      <td>0.058359</td>\n",
       "      <td>2020-04-27</td>\n",
       "      <td>ConfirmedCases</td>\n",
       "      <td>0</td>\n",
       "      <td>0</td>\n",
       "      <td>0</td>\n",
       "      <td>27</td>\n",
       "      <td>4</td>\n",
       "    </tr>\n",
       "    <tr>\n",
       "      <th>2</th>\n",
       "      <td>Afghanistan</td>\n",
       "      <td>27657145</td>\n",
       "      <td>0.583587</td>\n",
       "      <td>2020-04-27</td>\n",
       "      <td>Fatalities</td>\n",
       "      <td>1</td>\n",
       "      <td>0</td>\n",
       "      <td>0</td>\n",
       "      <td>27</td>\n",
       "      <td>4</td>\n",
       "    </tr>\n",
       "    <tr>\n",
       "      <th>3</th>\n",
       "      <td>Afghanistan</td>\n",
       "      <td>27657145</td>\n",
       "      <td>0.058359</td>\n",
       "      <td>2020-04-28</td>\n",
       "      <td>ConfirmedCases</td>\n",
       "      <td>0</td>\n",
       "      <td>0</td>\n",
       "      <td>1</td>\n",
       "      <td>28</td>\n",
       "      <td>4</td>\n",
       "    </tr>\n",
       "    <tr>\n",
       "      <th>4</th>\n",
       "      <td>Afghanistan</td>\n",
       "      <td>27657145</td>\n",
       "      <td>0.583587</td>\n",
       "      <td>2020-04-28</td>\n",
       "      <td>Fatalities</td>\n",
       "      <td>1</td>\n",
       "      <td>0</td>\n",
       "      <td>1</td>\n",
       "      <td>28</td>\n",
       "      <td>4</td>\n",
       "    </tr>\n",
       "    <tr>\n",
       "      <th>5</th>\n",
       "      <td>Afghanistan</td>\n",
       "      <td>27657145</td>\n",
       "      <td>0.058359</td>\n",
       "      <td>2020-04-29</td>\n",
       "      <td>ConfirmedCases</td>\n",
       "      <td>0</td>\n",
       "      <td>0</td>\n",
       "      <td>2</td>\n",
       "      <td>29</td>\n",
       "      <td>4</td>\n",
       "    </tr>\n",
       "  </tbody>\n",
       "</table>\n",
       "</div>"
      ],
      "text/plain": [
       "           Country_Region  Population    Weight       Date          Target  \\\n",
       "ForecastId                                                                   \n",
       "1             Afghanistan    27657145  0.058359 2020-04-27  ConfirmedCases   \n",
       "2             Afghanistan    27657145  0.583587 2020-04-27      Fatalities   \n",
       "3             Afghanistan    27657145  0.058359 2020-04-28  ConfirmedCases   \n",
       "4             Afghanistan    27657145  0.583587 2020-04-28      Fatalities   \n",
       "5             Afghanistan    27657145  0.058359 2020-04-29  ConfirmedCases   \n",
       "\n",
       "            Target_numerical  Country_numerical  Dayofweek  Day  Month  \n",
       "ForecastId                                                              \n",
       "1                          0                  0          0   27      4  \n",
       "2                          1                  0          0   27      4  \n",
       "3                          0                  0          1   28      4  \n",
       "4                          1                  0          1   28      4  \n",
       "5                          0                  0          2   29      4  "
      ]
     },
     "execution_count": 15,
     "metadata": {},
     "output_type": "execute_result"
    }
   ],
   "source": [
    "test_df.head()"
   ]
  },
  {
   "cell_type": "code",
   "execution_count": 16,
   "metadata": {},
   "outputs": [
    {
     "data": {
      "text/plain": [
       "array([139.8 ,   5.46, 126.46, ...,   0.32,   1.42,   0.3 ])"
      ]
     },
     "execution_count": 16,
     "metadata": {},
     "output_type": "execute_result"
    }
   ],
   "source": [
    "# predictions\n",
    "y_predicted1 = model.predict(test_data)\n",
    "y_predicted1"
   ]
  },
  {
   "cell_type": "code",
   "execution_count": null,
   "metadata": {},
   "outputs": [],
   "source": []
  }
 ],
 "metadata": {
  "kernelspec": {
   "display_name": "Python 3",
   "language": "python",
   "name": "python3"
  },
  "language_info": {
   "codemirror_mode": {
    "name": "ipython",
    "version": 3
   },
   "file_extension": ".py",
   "mimetype": "text/x-python",
   "name": "python",
   "nbconvert_exporter": "python",
   "pygments_lexer": "ipython3",
   "version": "3.7.3"
  }
 },
 "nbformat": 4,
 "nbformat_minor": 2
}
